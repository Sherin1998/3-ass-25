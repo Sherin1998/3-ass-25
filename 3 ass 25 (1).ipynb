{
 "cells": [
  {
   "cell_type": "code",
   "execution_count": 58,
   "metadata": {},
   "outputs": [
    {
     "name": "stdout",
     "output_type": "stream",
     "text": [
      "0\n"
     ]
    }
   ],
   "source": [
    "#1\n",
    "\n",
    "def equal(l):\n",
    "    if(l[0]==l[1] and l[1]==l[2]):\n",
    "        count=3\n",
    "    elif(l[0]==l[1] or l[1]==l[2]):\n",
    "        count=2\n",
    "    else:\n",
    "        count=0\n",
    "    \n",
    "    return count\n",
    "                \n",
    "    \n",
    "print(equal([1,4,3]))    #[1,1,1],[3,4,1]"
   ]
  },
  {
   "cell_type": "code",
   "execution_count": 11,
   "metadata": {},
   "outputs": [
    {
     "name": "stdout",
     "output_type": "stream",
     "text": [
      "[('B', 2), ('C', 3), ('D', 1)]\n"
     ]
    }
   ],
   "source": [
    "#2\n",
    "\n",
    "def dict_to_list(d):\n",
    "    re=[i for i in sorted(e.items())]\n",
    "    return re\n",
    "        \n",
    "    \n",
    "s=dict_to_list({'D':1,'B':2,'C':3})  \n",
    "print(s)\n",
    "    \n",
    "    "
   ]
  },
  {
   "cell_type": "code",
   "execution_count": 6,
   "metadata": {},
   "outputs": [
    {
     "data": {
      "text/plain": [
       "{'a': 'A', 'b': 'B', 'c': 'C'}"
      ]
     },
     "execution_count": 6,
     "metadata": {},
     "output_type": "execute_result"
    }
   ],
   "source": [
    "#3\n",
    "\n",
    "def mapping(l):\n",
    "    s={}\n",
    "    for i in l:\n",
    "        s[i]=i.upper()\n",
    "    return s\n",
    "mapping(['a','b','c'])                #['x','y','z','a','b','c']"
   ]
  },
  {
   "cell_type": "code",
   "execution_count": 27,
   "metadata": {},
   "outputs": [
    {
     "name": "stdout",
     "output_type": "stream",
     "text": [
      "String :cheese caasarole\n",
      "Character to replaceo\n"
     ]
    },
    {
     "data": {
      "text/plain": [
       "'chooso coosorolo'"
      ]
     },
     "execution_count": 27,
     "metadata": {},
     "output_type": "execute_result"
    }
   ],
   "source": [
    "#4\n",
    "\n",
    "def vow_vowels(x,y):\n",
    "    v=['a','e','i','o','u','A','E','I','O','U']\n",
    "    for i in x:\n",
    "        if i in v:\n",
    "            x=x.replace(i,y)\n",
    "    return x\n",
    "\n",
    "x=input('String :')\n",
    "y=input('Character to replace')\n",
    "vow_vowels(x,y)\n",
    "\n"
   ]
  },
  {
   "cell_type": "code",
   "execution_count": 41,
   "metadata": {},
   "outputs": [
    {
     "name": "stdout",
     "output_type": "stream",
     "text": [
      "StringTHE LITTLE MERMAID\n"
     ]
    },
    {
     "data": {
      "text/plain": [
       "'THe LiTTLe meRmaiD'"
      ]
     },
     "execution_count": 41,
     "metadata": {},
     "output_type": "execute_result"
    }
   ],
   "source": [
    "#5\n",
    "\n",
    "def ascii_capitalize(x):\n",
    "    q=''\n",
    "    for i in x:\n",
    "        if(ord(i)%2==0):\n",
    "            q+=i.upper()\n",
    "        else:\n",
    "            q+=i.lower()\n",
    "    return q\n",
    "    \n",
    "x=input('String')\n",
    "ascii_capitalize(x)   "
   ]
  },
  {
   "cell_type": "code",
   "execution_count": null,
   "metadata": {},
   "outputs": [],
   "source": []
  }
 ],
 "metadata": {
  "kernelspec": {
   "display_name": "Python 3",
   "language": "python",
   "name": "python3"
  },
  "language_info": {
   "codemirror_mode": {
    "name": "ipython",
    "version": 3
   },
   "file_extension": ".py",
   "mimetype": "text/x-python",
   "name": "python",
   "nbconvert_exporter": "python",
   "pygments_lexer": "ipython3",
   "version": "3.8.3"
  }
 },
 "nbformat": 4,
 "nbformat_minor": 4
}
